{
 "cells": [
  {
   "cell_type": "code",
   "execution_count": 1,
   "id": "497afac4",
   "metadata": {},
   "outputs": [
    {
     "name": "stdout",
     "output_type": "stream",
     "text": [
      "Epoch 1/10\n",
      "23/23 [==============================] - 13s 533ms/step - loss: 2.5638 - accuracy: 0.1444 - val_loss: 2.1232 - val_accuracy: 0.1602\n",
      "Epoch 2/10\n",
      "23/23 [==============================] - 11s 498ms/step - loss: 1.9269 - accuracy: 0.2611 - val_loss: 1.9686 - val_accuracy: 0.3039\n",
      "Epoch 3/10\n",
      "23/23 [==============================] - 16s 684ms/step - loss: 1.7133 - accuracy: 0.4111 - val_loss: 1.9862 - val_accuracy: 0.3370\n",
      "Epoch 4/10\n",
      "23/23 [==============================] - 13s 559ms/step - loss: 1.4094 - accuracy: 0.5528 - val_loss: 1.8388 - val_accuracy: 0.3702\n",
      "Epoch 5/10\n",
      "23/23 [==============================] - 13s 580ms/step - loss: 1.0302 - accuracy: 0.6847 - val_loss: 1.8413 - val_accuracy: 0.4199\n",
      "Epoch 6/10\n",
      "23/23 [==============================] - 12s 523ms/step - loss: 0.6977 - accuracy: 0.7736 - val_loss: 1.9845 - val_accuracy: 0.4199\n",
      "Epoch 7/10\n",
      "23/23 [==============================] - 11s 495ms/step - loss: 0.4518 - accuracy: 0.8528 - val_loss: 2.1470 - val_accuracy: 0.4199\n",
      "Epoch 8/10\n",
      "23/23 [==============================] - 12s 519ms/step - loss: 0.3131 - accuracy: 0.9028 - val_loss: 2.0577 - val_accuracy: 0.4199\n",
      "Epoch 9/10\n",
      "23/23 [==============================] - 12s 542ms/step - loss: 0.1926 - accuracy: 0.9528 - val_loss: 2.2549 - val_accuracy: 0.4641\n",
      "Epoch 10/10\n",
      "23/23 [==============================] - 11s 472ms/step - loss: 0.1390 - accuracy: 0.9667 - val_loss: 2.4550 - val_accuracy: 0.4088\n"
     ]
    },
    {
     "data": {
      "text/plain": [
       "<keras.callbacks.History at 0x2125b742250>"
      ]
     },
     "execution_count": 1,
     "metadata": {},
     "output_type": "execute_result"
    }
   ],
   "source": [
    "import os\n",
    "import numpy as np\n",
    "import cv2\n",
    "from sklearn.model_selection import train_test_split\n",
    "from keras.utils import to_categorical\n",
    "from keras.models import Sequential\n",
    "from keras.layers import Conv2D, MaxPooling2D, Flatten, Dense, Dropout\n",
    "from keras.optimizers import Adam\n",
    "\n",
    "# Set the path to the directory containing your dataset\n",
    "data_dir =\"C:\\kALYANI\\classification project\\lfmode\"\n",
    "# Set the desired input size for the images\n",
    "image_size = (128, 128)\n",
    "\n",
    "# Load the dataset\n",
    "def load_dataset():\n",
    "    images = []\n",
    "    labels = []\n",
    "    for label in os.listdir(data_dir):\n",
    "        label_dir = os.path.join(data_dir, label)\n",
    "        for img_name in os.listdir(label_dir):\n",
    "            img_path = os.path.join(label_dir, img_name)\n",
    "            img = cv2.imread(img_path)\n",
    "            if img is not None:\n",
    "                img = cv2.resize(img, image_size)\n",
    "                images.append(img)\n",
    "                labels.append(label)\n",
    "    images = np.array(images)\n",
    "    labels = np.array(labels)\n",
    "    return images, labels\n",
    "\n",
    "\n",
    "# Load and preprocess the dataset\n",
    "def preprocess_dataset(images, labels):\n",
    "    # Convert labels to unique integer values\n",
    "    label_mapping = {label: i for i, label in enumerate(np.unique(labels))}\n",
    "    labels = [label_mapping[label] for label in labels]\n",
    "    \n",
    "    images = np.array(images)\n",
    "    labels = np.array(labels)\n",
    "    \n",
    "    # Normalize pixel values to the range of 0-1\n",
    "    images = images.astype('float32') / 255.0\n",
    "    \n",
    "    # Convert labels to one-hot encoded vectors\n",
    "    labels = to_categorical(labels)\n",
    "    \n",
    "    # Split the dataset into training and testing sets\n",
    "    X_train, X_test, y_train, y_test = train_test_split(images, labels, test_size=0.2, random_state=42)\n",
    "    \n",
    "    return X_train, X_test, y_train, y_test\n",
    "\n",
    "# Build the model\n",
    "def build_model(input_shape, num_classes):\n",
    "    model = Sequential()\n",
    "    model.add(Conv2D(32, (3, 3), activation='relu', input_shape=input_shape))\n",
    "    model.add(MaxPooling2D((2, 2)))\n",
    "    model.add(Conv2D(64, (3, 3), activation='relu'))\n",
    "    model.add(MaxPooling2D((2, 2)))\n",
    "    model.add(Flatten())\n",
    "    model.add(Dense(128, activation='relu'))\n",
    "    model.add(Dropout(0.5))\n",
    "    model.add(Dense(num_classes, activation='softmax'))\n",
    "    return model\n",
    "\n",
    "# Load and preprocess the dataset\n",
    "images, labels = load_dataset()\n",
    "X_train, X_test, y_train, y_test = preprocess_dataset(images, labels)\n",
    "\n",
    "# Build the model\n",
    "input_shape = X_train[0].shape\n",
    "num_classes = len(np.unique(labels))\n",
    "model = build_model(input_shape, num_classes)\n",
    "\n",
    "# Compile the model\n",
    "model.compile(optimizer=Adam(), loss='categorical_crossentropy', metrics=['accuracy'])\n",
    "\n",
    "# Train the model\n",
    "model.fit(X_train, y_train, batch_size=32, epochs=10, validation_data=(X_test, y_test))\n"
   ]
  },
  {
   "cell_type": "code",
   "execution_count": 4,
   "id": "8d7f599e",
   "metadata": {},
   "outputs": [
    {
     "name": "stdout",
     "output_type": "stream",
     "text": [
      "6/6 [==============================] - 1s 119ms/step - loss: 2.4550 - accuracy: 0.4088\n",
      "Test Loss: 2.454986810684204\n",
      "Test Accuracy: 0.40883979201316833\n"
     ]
    }
   ],
   "source": [
    "loss, accuracy = model.evaluate(X_test, y_test)\n",
    "print(\"Test Loss:\", loss)\n",
    "print(\"Test Accuracy:\", accuracy)"
   ]
  },
  {
   "cell_type": "code",
   "execution_count": 19,
   "id": "e50bcc43",
   "metadata": {},
   "outputs": [
    {
     "name": "stdout",
     "output_type": "stream",
     "text": [
      "1/1 [==============================] - 0s 37ms/step\n",
      "Predicted Class: Night Blooming Jasmine leaf\n"
     ]
    }
   ],
   "source": [
    "import cv2\n",
    "import numpy as np\n",
    "\n",
    "# Assuming you have a single new image filename\n",
    "new_image_filename = 'C:\\kALYANI\\llk.jpg'\n",
    "\n",
    "# Read and preprocess the new image\n",
    "new_image = cv2.imread(new_image_filename)\n",
    "new_image = cv2.resize(new_image, image_size)\n",
    "new_image = new_image.astype('float32') / 255.0\n",
    "new_image = np.expand_dims(new_image, axis=0)  # Add a batch dimension\n",
    "\n",
    "# Predict the class probabilities for the new image\n",
    "predictions = model.predict(new_image)\n",
    "\n",
    "# Get the predicted class label\n",
    "predicted_label = np.argmax(predictions[0])\n",
    "# Convert labels to unique integer values\n",
    "label_mapping = {label: i for i, label in enumerate(np.unique(labels))}\n",
    "\n",
    "\n",
    "# # Map the predicted label to the corresponding class name\n",
    "# class_mapping = {i: label for label, i in label_mapping.items()}\n",
    "# predicted_class = class_mapping[predicted_label]\n",
    "\n",
    "# # Print the predicted class label\n",
    "# print(\"Predicted Class:\", predicted_class)\n",
    "# Assuming you have the label_mapping dictionary available\n",
    "predicted_label = np.argmax(predictions[0])\n",
    "\n",
    "# Map the predicted label to the corresponding class name\n",
    "class_mapping = {i: label for label, i in label_mapping.items()}\n",
    "predicted_class = class_mapping[predicted_label]\n",
    "\n",
    "# Print the predicted class label\n",
    "print(\"Predicted Class:\", predicted_class)"
   ]
  },
  {
   "cell_type": "code",
   "execution_count": 2,
   "id": "aeac4027",
   "metadata": {},
   "outputs": [],
   "source": [
    "# from keras.preprocessing.image import ImageDataGenerator\n",
    "\n",
    "# # Create an ImageDataGenerator with data augmentation\n",
    "# data_generator = ImageDataGenerator(\n",
    "#     rescale=1./255,\n",
    "#     rotation_range=20,\n",
    "#     width_shift_range=0.2,\n",
    "#     height_shift_range=0.2,\n",
    "#     shear_range=0.2,\n",
    "#     zoom_range=0.2,\n",
    "#     horizontal_flip=True,\n",
    "#     vertical_flip=True\n",
    "# )\n",
    "\n",
    "# # Generate augmented data for training\n",
    "# train_generator = data_generator.flow(X_train, y_train, batch_size=32)\n",
    "\n",
    "# # Train the model with augmented data\n",
    "# model.fit(train_generator, epochs=10, validation_data=(X_test, y_test))\n"
   ]
  },
  {
   "cell_type": "code",
   "execution_count": 3,
   "id": "8376f03b",
   "metadata": {},
   "outputs": [],
   "source": [
    "# from keras.applications import ResNet50\n",
    "# from keras.layers import GlobalAveragePooling2D\n",
    "\n",
    "# # Load the pre-trained ResNet50 model\n",
    "# base_model = ResNet50(include_top=False, weights='imagenet', input_shape=(128, 128, 3))\n",
    "\n",
    "# # Freeze the base model's layers\n",
    "# for layer in base_model.layers:\n",
    "#     layer.trainable = False\n",
    "\n",
    "# # Add new layers on top of the base model for our task\n",
    "# model = Sequential()\n",
    "# model.add(base_model)\n",
    "# model.add(GlobalAveragePooling2D())\n",
    "# model.add(Dense(128, activation='relu'))\n",
    "# model.add(Dropout(0.5))\n",
    "# model.add(Dense(num_classes, activation='softmax'))\n",
    "\n",
    "# # Compile the model\n",
    "# model.compile(optimizer=Adam(), loss='categorical_crossentropy', metrics=['accuracy'])\n",
    "\n",
    "# # Train the model\n",
    "# model.fit(train_generator, epochs=10, validation_data=(X_test, y_test))\n"
   ]
  },
  {
   "cell_type": "code",
   "execution_count": null,
   "id": "306a9db5",
   "metadata": {},
   "outputs": [],
   "source": []
  }
 ],
 "metadata": {
  "kernelspec": {
   "display_name": "Python 3 (ipykernel)",
   "language": "python",
   "name": "python3"
  },
  "language_info": {
   "codemirror_mode": {
    "name": "ipython",
    "version": 3
   },
   "file_extension": ".py",
   "mimetype": "text/x-python",
   "name": "python",
   "nbconvert_exporter": "python",
   "pygments_lexer": "ipython3",
   "version": "3.11.3"
  }
 },
 "nbformat": 4,
 "nbformat_minor": 5
}
